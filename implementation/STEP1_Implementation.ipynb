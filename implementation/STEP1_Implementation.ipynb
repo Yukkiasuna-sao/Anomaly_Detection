{
 "cells": [
  {
   "cell_type": "markdown",
   "metadata": {},
   "source": [
    "# Anomaly Detection: STEP1\n",
    "\n",
    "## Outline\n",
    "1. Introduction\n",
    "\n",
    "2. Import Module\n",
    "\n",
    "3. Load Dataset\n",
    "    \n",
    "    3.1 Description\n",
    "    \n",
    "    3.2 Define Anomalies\n",
    "    \n",
    "4. Split Dataset(Train, Test)\n",
    "\n",
    "5. Exploratory Data Analysis\n",
    "\n",
    "6. Implementation Anomaly Detection"
   ]
  },
  {
   "cell_type": "markdown",
   "metadata": {},
   "source": [
    "## Introduction\n",
    "\n",
    "[UCI machine learning repository](https://archive.ics.uci.edu/ml/index.php)의 갑상선 질환 데이터 셋을 이용하여 Point Anomalies를 탐지 구현을 목표로 하는 커널이다. \n",
    "\n",
    "데이터는 7200개의 행과 15개의 범주형 변수, 6개의 연속형 변수로 구성되어 있다. 이상 탐지 구현은 6개의 연속형 변수를 이용하여 구현할 것이다. \n",
    "\n",
    "라벨(class)은 정상데이터(Normal), 기능 항진(Hyperfunction)과 비정상(Subnormal)이 존재한다. \n",
    "\n",
    "훈련 데이터와 테스트 데이터로 분할되어 있지 않기 때문에 가장 먼저 분할을 수행한다."
   ]
  },
  {
   "cell_type": "markdown",
   "metadata": {},
   "source": [
    "## Import Module"
   ]
  },
  {
   "cell_type": "code",
   "execution_count": 2,
   "metadata": {
    "ExecuteTime": {
     "end_time": "2020-03-04T13:33:04.451701Z",
     "start_time": "2020-03-04T13:33:00.500069Z"
    }
   },
   "outputs": [],
   "source": [
    "import numpy as np\n",
    "import pandas as pd\n",
    "import scipy.io\n",
    "\n",
    "import matplotlib.pyplot as plt\n",
    "import seaborn as sns\n",
    "\n",
    "from sklearn.model_selection import train_test_split\n",
    "\n",
    "import warnings\n",
    "warnings.filterwarnings('ignore')"
   ]
  },
  {
   "cell_type": "markdown",
   "metadata": {},
   "source": [
    "## Load Dataset"
   ]
  },
  {
   "cell_type": "code",
   "execution_count": 3,
   "metadata": {
    "ExecuteTime": {
     "end_time": "2020-03-04T13:33:04.508678Z",
     "start_time": "2020-03-04T13:33:04.453688Z"
    }
   },
   "outputs": [
    {
     "name": "stdout",
     "output_type": "stream",
     "text": [
      "Dataset Shape: (7200, 7)\n"
     ]
    },
    {
     "data": {
      "text/html": [
       "<div>\n",
       "<style scoped>\n",
       "    .dataframe tbody tr th:only-of-type {\n",
       "        vertical-align: middle;\n",
       "    }\n",
       "\n",
       "    .dataframe tbody tr th {\n",
       "        vertical-align: top;\n",
       "    }\n",
       "\n",
       "    .dataframe thead th {\n",
       "        text-align: right;\n",
       "    }\n",
       "</style>\n",
       "<table border=\"1\" class=\"dataframe\">\n",
       "  <thead>\n",
       "    <tr style=\"text-align: right;\">\n",
       "      <th></th>\n",
       "      <th>Age</th>\n",
       "      <th>TSH</th>\n",
       "      <th>T3</th>\n",
       "      <th>TT4</th>\n",
       "      <th>T4U</th>\n",
       "      <th>FTI</th>\n",
       "      <th>class</th>\n",
       "    </tr>\n",
       "  </thead>\n",
       "  <tbody>\n",
       "    <tr>\n",
       "      <th>0</th>\n",
       "      <td>0.73</td>\n",
       "      <td>0.00060</td>\n",
       "      <td>0.015</td>\n",
       "      <td>0.120</td>\n",
       "      <td>0.082</td>\n",
       "      <td>0.146</td>\n",
       "      <td>3</td>\n",
       "    </tr>\n",
       "    <tr>\n",
       "      <th>1</th>\n",
       "      <td>0.24</td>\n",
       "      <td>0.00025</td>\n",
       "      <td>0.030</td>\n",
       "      <td>0.143</td>\n",
       "      <td>0.133</td>\n",
       "      <td>0.108</td>\n",
       "      <td>3</td>\n",
       "    </tr>\n",
       "    <tr>\n",
       "      <th>2</th>\n",
       "      <td>0.47</td>\n",
       "      <td>0.00190</td>\n",
       "      <td>0.024</td>\n",
       "      <td>0.102</td>\n",
       "      <td>0.131</td>\n",
       "      <td>0.078</td>\n",
       "      <td>3</td>\n",
       "    </tr>\n",
       "    <tr>\n",
       "      <th>3</th>\n",
       "      <td>0.64</td>\n",
       "      <td>0.00090</td>\n",
       "      <td>0.017</td>\n",
       "      <td>0.077</td>\n",
       "      <td>0.090</td>\n",
       "      <td>0.085</td>\n",
       "      <td>3</td>\n",
       "    </tr>\n",
       "    <tr>\n",
       "      <th>4</th>\n",
       "      <td>0.23</td>\n",
       "      <td>0.00025</td>\n",
       "      <td>0.026</td>\n",
       "      <td>0.139</td>\n",
       "      <td>0.090</td>\n",
       "      <td>0.153</td>\n",
       "      <td>3</td>\n",
       "    </tr>\n",
       "  </tbody>\n",
       "</table>\n",
       "</div>"
      ],
      "text/plain": [
       "    Age      TSH     T3    TT4    T4U    FTI  class\n",
       "0  0.73  0.00060  0.015  0.120  0.082  0.146      3\n",
       "1  0.24  0.00025  0.030  0.143  0.133  0.108      3\n",
       "2  0.47  0.00190  0.024  0.102  0.131  0.078      3\n",
       "3  0.64  0.00090  0.017  0.077  0.090  0.085      3\n",
       "4  0.23  0.00025  0.026  0.139  0.090  0.153      3"
      ]
     },
     "execution_count": 3,
     "metadata": {},
     "output_type": "execute_result"
    }
   ],
   "source": [
    "dataset = pd.read_csv('../dataset/thyroid_disease/thyroid_disease.csv')\n",
    "dataset = dataset[['Age', 'TSH', 'T3', 'TT4', 'T4U', 'FTI', 'class']]\n",
    "print('Dataset Shape:',dataset.shape)\n",
    "dataset.head()"
   ]
  },
  {
   "cell_type": "code",
   "execution_count": 4,
   "metadata": {
    "ExecuteTime": {
     "end_time": "2020-03-04T13:33:04.549684Z",
     "start_time": "2020-03-04T13:33:04.510675Z"
    }
   },
   "outputs": [
    {
     "data": {
      "text/html": [
       "<div>\n",
       "<style scoped>\n",
       "    .dataframe tbody tr th:only-of-type {\n",
       "        vertical-align: middle;\n",
       "    }\n",
       "\n",
       "    .dataframe tbody tr th {\n",
       "        vertical-align: top;\n",
       "    }\n",
       "\n",
       "    .dataframe thead th {\n",
       "        text-align: right;\n",
       "    }\n",
       "</style>\n",
       "<table border=\"1\" class=\"dataframe\">\n",
       "  <thead>\n",
       "    <tr style=\"text-align: right;\">\n",
       "      <th></th>\n",
       "      <th>Age</th>\n",
       "      <th>TSH</th>\n",
       "      <th>T3</th>\n",
       "      <th>TT4</th>\n",
       "      <th>T4U</th>\n",
       "      <th>FTI</th>\n",
       "      <th>class</th>\n",
       "    </tr>\n",
       "  </thead>\n",
       "  <tbody>\n",
       "    <tr>\n",
       "      <th>count</th>\n",
       "      <td>7200.000000</td>\n",
       "      <td>7200.000000</td>\n",
       "      <td>7200.000000</td>\n",
       "      <td>7200.000000</td>\n",
       "      <td>7200.000000</td>\n",
       "      <td>7200.000000</td>\n",
       "      <td>7200.000000</td>\n",
       "    </tr>\n",
       "    <tr>\n",
       "      <th>mean</th>\n",
       "      <td>0.520518</td>\n",
       "      <td>0.004861</td>\n",
       "      <td>0.019977</td>\n",
       "      <td>0.109430</td>\n",
       "      <td>0.097838</td>\n",
       "      <td>0.113215</td>\n",
       "      <td>2.902778</td>\n",
       "    </tr>\n",
       "    <tr>\n",
       "      <th>std</th>\n",
       "      <td>0.189269</td>\n",
       "      <td>0.022979</td>\n",
       "      <td>0.007539</td>\n",
       "      <td>0.035969</td>\n",
       "      <td>0.019085</td>\n",
       "      <td>0.036098</td>\n",
       "      <td>0.365923</td>\n",
       "    </tr>\n",
       "    <tr>\n",
       "      <th>min</th>\n",
       "      <td>0.010000</td>\n",
       "      <td>0.000000</td>\n",
       "      <td>0.000500</td>\n",
       "      <td>0.002000</td>\n",
       "      <td>0.017000</td>\n",
       "      <td>0.002000</td>\n",
       "      <td>1.000000</td>\n",
       "    </tr>\n",
       "    <tr>\n",
       "      <th>25%</th>\n",
       "      <td>0.370000</td>\n",
       "      <td>0.000710</td>\n",
       "      <td>0.017000</td>\n",
       "      <td>0.089000</td>\n",
       "      <td>0.087000</td>\n",
       "      <td>0.095000</td>\n",
       "      <td>3.000000</td>\n",
       "    </tr>\n",
       "    <tr>\n",
       "      <th>50%</th>\n",
       "      <td>0.550000</td>\n",
       "      <td>0.001700</td>\n",
       "      <td>0.020100</td>\n",
       "      <td>0.107000</td>\n",
       "      <td>0.097000</td>\n",
       "      <td>0.111000</td>\n",
       "      <td>3.000000</td>\n",
       "    </tr>\n",
       "    <tr>\n",
       "      <th>75%</th>\n",
       "      <td>0.670000</td>\n",
       "      <td>0.002700</td>\n",
       "      <td>0.022000</td>\n",
       "      <td>0.125000</td>\n",
       "      <td>0.104000</td>\n",
       "      <td>0.127000</td>\n",
       "      <td>3.000000</td>\n",
       "    </tr>\n",
       "    <tr>\n",
       "      <th>max</th>\n",
       "      <td>0.970000</td>\n",
       "      <td>0.530000</td>\n",
       "      <td>0.180000</td>\n",
       "      <td>0.600000</td>\n",
       "      <td>0.233000</td>\n",
       "      <td>0.642000</td>\n",
       "      <td>3.000000</td>\n",
       "    </tr>\n",
       "  </tbody>\n",
       "</table>\n",
       "</div>"
      ],
      "text/plain": [
       "               Age          TSH           T3          TT4          T4U  \\\n",
       "count  7200.000000  7200.000000  7200.000000  7200.000000  7200.000000   \n",
       "mean      0.520518     0.004861     0.019977     0.109430     0.097838   \n",
       "std       0.189269     0.022979     0.007539     0.035969     0.019085   \n",
       "min       0.010000     0.000000     0.000500     0.002000     0.017000   \n",
       "25%       0.370000     0.000710     0.017000     0.089000     0.087000   \n",
       "50%       0.550000     0.001700     0.020100     0.107000     0.097000   \n",
       "75%       0.670000     0.002700     0.022000     0.125000     0.104000   \n",
       "max       0.970000     0.530000     0.180000     0.600000     0.233000   \n",
       "\n",
       "               FTI        class  \n",
       "count  7200.000000  7200.000000  \n",
       "mean      0.113215     2.902778  \n",
       "std       0.036098     0.365923  \n",
       "min       0.002000     1.000000  \n",
       "25%       0.095000     3.000000  \n",
       "50%       0.111000     3.000000  \n",
       "75%       0.127000     3.000000  \n",
       "max       0.642000     3.000000  "
      ]
     },
     "execution_count": 4,
     "metadata": {},
     "output_type": "execute_result"
    }
   ],
   "source": [
    "dataset.describe()"
   ]
  },
  {
   "cell_type": "markdown",
   "metadata": {},
   "source": [
    "### Description\n",
    "연속형 변수와 라벨로 구성된 데이터의 설명은 다음과 같다.\n",
    "- Age: 연령\n",
    "- TSH: 갑상선 자극 호르몬 검사 수치\n",
    "    - 뇌하수체에서 생성되는 호르몬 중 하나. 뇌하수체가 제대로 작동하지 않으면 TSH가 상승하거나 감소하게 된다. \n",
    "    - TSH 농도가 증가하면, 갑상선이 비정상적인 양의 T4(티록신),T3(트리요오드티로닌)의 생성과 분비를 자극한다.  \n",
    "    - 시상하부, 뇌하수체, 갑상선 3개의 기관이 모두 정상적인 기능을 하고 있을 때, 혈중 갑상선 호르몬을 일정하기 유지하기 위해 호르몬 생산을 제어한다.\n",
    "- T3: 트리요오드티로닌 검사 수치\n",
    "- TT4: 티록신 검사 수치\n",
    "- T4U: 티록신 흡수율 검사 수치\n",
    "- FTI: 유리 티록신 지수\n",
    "    - 총 티록신 수치에 영향을 줄 수 있는 특정 단백질의 변화를 교정하는 갑상선 기능을 평가하는 방법 중 하나.\n",
    "\n",
    "다음 표는 검사 결과와 검사 수치에 대한 의미를 요약해 놓은 것이다.\n",
    "\n",
    "<img src=\"../image/TSH_T3_T4.png\" width=\"500\">\n",
    "\n",
    "Source: [Lab Tests Online](https://labtestsonline.kr/)"
   ]
  },
  {
   "cell_type": "markdown",
   "metadata": {},
   "source": [
    "### Define Anomalies\n",
    "데이터의 라벨은 총 3가지로 나뉘어 있다. 이상 감지는 일반적인 데이터 패턴에서 벗어나는 값을 찾는 것이기 때문에 대부분 Class Imblance 문제를 가지고 있다. 따라서 이상 클래스를 다음으로 정의한다.\n",
    "- 1, 2: Hyperthyroidism(Anomalies)\n",
    "- 3: Normal"
   ]
  },
  {
   "cell_type": "code",
   "execution_count": 5,
   "metadata": {
    "ExecuteTime": {
     "end_time": "2020-03-04T13:33:04.566674Z",
     "start_time": "2020-03-04T13:33:04.552677Z"
    }
   },
   "outputs": [],
   "source": [
    "dataset['outlier'] = dataset['class'].apply(lambda x: 0 if x == 3 else 1)\n",
    "dataset.drop(columns = 'class', inplace = True)\n",
    "\n",
    "X = dataset.drop(columns = 'outlier')\n",
    "y = dataset['outlier']"
   ]
  },
  {
   "cell_type": "markdown",
   "metadata": {},
   "source": [
    "## Split Dataset\n",
    "이제, 데이터를 훈련 데이터와 테스트 데이터로 분할한다. "
   ]
  },
  {
   "cell_type": "code",
   "execution_count": 6,
   "metadata": {
    "ExecuteTime": {
     "end_time": "2020-03-04T13:33:04.579750Z",
     "start_time": "2020-03-04T13:33:04.569678Z"
    }
   },
   "outputs": [],
   "source": [
    "X_train, X_test, y_train, y_test = train_test_split(X, y, test_size = 0.25, random_state = 42)"
   ]
  },
  {
   "cell_type": "markdown",
   "metadata": {},
   "source": [
    "## Exploratory Data Analysis\n",
    "훈련 데이터에 대한 탐색적 자료 분석을 수행한다. \n",
    "\n",
    "분석을 수행하기 전 예상할 수 있는 가정은 다음과 같다.\n",
    "- 정상 데이터와 이상 데이터의 컬럼별 분포는 상이할 것이다."
   ]
  }
 ],
 "metadata": {
  "kernelspec": {
   "display_name": "Python 3",
   "language": "python",
   "name": "python3"
  },
  "language_info": {
   "codemirror_mode": {
    "name": "ipython",
    "version": 3
   },
   "file_extension": ".py",
   "mimetype": "text/x-python",
   "name": "python",
   "nbconvert_exporter": "python",
   "pygments_lexer": "ipython3",
   "version": "3.7.3"
  },
  "toc": {
   "base_numbering": 1,
   "nav_menu": {},
   "number_sections": true,
   "sideBar": true,
   "skip_h1_title": false,
   "title_cell": "Table of Contents",
   "title_sidebar": "Contents",
   "toc_cell": false,
   "toc_position": {},
   "toc_section_display": true,
   "toc_window_display": false
  },
  "varInspector": {
   "cols": {
    "lenName": 16,
    "lenType": 16,
    "lenVar": 40
   },
   "kernels_config": {
    "python": {
     "delete_cmd_postfix": "",
     "delete_cmd_prefix": "del ",
     "library": "var_list.py",
     "varRefreshCmd": "print(var_dic_list())"
    },
    "r": {
     "delete_cmd_postfix": ") ",
     "delete_cmd_prefix": "rm(",
     "library": "var_list.r",
     "varRefreshCmd": "cat(var_dic_list()) "
    }
   },
   "types_to_exclude": [
    "module",
    "function",
    "builtin_function_or_method",
    "instance",
    "_Feature"
   ],
   "window_display": false
  }
 },
 "nbformat": 4,
 "nbformat_minor": 2
}
