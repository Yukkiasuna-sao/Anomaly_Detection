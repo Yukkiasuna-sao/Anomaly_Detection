{
 "cells": [
  {
   "cell_type": "code",
   "execution_count": 1,
   "metadata": {
    "ExecuteTime": {
     "end_time": "2020-01-09T08:15:00.532729Z",
     "start_time": "2020-01-09T08:14:52.854289Z"
    }
   },
   "outputs": [
    {
     "name": "stderr",
     "output_type": "stream",
     "text": [
      "C:\\Users\\PARK\\Anaconda3\\lib\\site-packages\\tensorflow\\python\\framework\\dtypes.py:516: FutureWarning: Passing (type, 1) or '1type' as a synonym of type is deprecated; in a future version of numpy, it will be understood as (type, (1,)) / '(1,)type'.\n",
      "  _np_qint8 = np.dtype([(\"qint8\", np.int8, 1)])\n",
      "C:\\Users\\PARK\\Anaconda3\\lib\\site-packages\\tensorflow\\python\\framework\\dtypes.py:517: FutureWarning: Passing (type, 1) or '1type' as a synonym of type is deprecated; in a future version of numpy, it will be understood as (type, (1,)) / '(1,)type'.\n",
      "  _np_quint8 = np.dtype([(\"quint8\", np.uint8, 1)])\n",
      "C:\\Users\\PARK\\Anaconda3\\lib\\site-packages\\tensorflow\\python\\framework\\dtypes.py:518: FutureWarning: Passing (type, 1) or '1type' as a synonym of type is deprecated; in a future version of numpy, it will be understood as (type, (1,)) / '(1,)type'.\n",
      "  _np_qint16 = np.dtype([(\"qint16\", np.int16, 1)])\n",
      "C:\\Users\\PARK\\Anaconda3\\lib\\site-packages\\tensorflow\\python\\framework\\dtypes.py:519: FutureWarning: Passing (type, 1) or '1type' as a synonym of type is deprecated; in a future version of numpy, it will be understood as (type, (1,)) / '(1,)type'.\n",
      "  _np_quint16 = np.dtype([(\"quint16\", np.uint16, 1)])\n",
      "C:\\Users\\PARK\\Anaconda3\\lib\\site-packages\\tensorflow\\python\\framework\\dtypes.py:520: FutureWarning: Passing (type, 1) or '1type' as a synonym of type is deprecated; in a future version of numpy, it will be understood as (type, (1,)) / '(1,)type'.\n",
      "  _np_qint32 = np.dtype([(\"qint32\", np.int32, 1)])\n",
      "C:\\Users\\PARK\\Anaconda3\\lib\\site-packages\\tensorflow\\python\\framework\\dtypes.py:525: FutureWarning: Passing (type, 1) or '1type' as a synonym of type is deprecated; in a future version of numpy, it will be understood as (type, (1,)) / '(1,)type'.\n",
      "  np_resource = np.dtype([(\"resource\", np.ubyte, 1)])\n",
      "C:\\Users\\PARK\\Anaconda3\\lib\\site-packages\\tensorboard\\compat\\tensorflow_stub\\dtypes.py:541: FutureWarning: Passing (type, 1) or '1type' as a synonym of type is deprecated; in a future version of numpy, it will be understood as (type, (1,)) / '(1,)type'.\n",
      "  _np_qint8 = np.dtype([(\"qint8\", np.int8, 1)])\n",
      "C:\\Users\\PARK\\Anaconda3\\lib\\site-packages\\tensorboard\\compat\\tensorflow_stub\\dtypes.py:542: FutureWarning: Passing (type, 1) or '1type' as a synonym of type is deprecated; in a future version of numpy, it will be understood as (type, (1,)) / '(1,)type'.\n",
      "  _np_quint8 = np.dtype([(\"quint8\", np.uint8, 1)])\n",
      "C:\\Users\\PARK\\Anaconda3\\lib\\site-packages\\tensorboard\\compat\\tensorflow_stub\\dtypes.py:543: FutureWarning: Passing (type, 1) or '1type' as a synonym of type is deprecated; in a future version of numpy, it will be understood as (type, (1,)) / '(1,)type'.\n",
      "  _np_qint16 = np.dtype([(\"qint16\", np.int16, 1)])\n",
      "C:\\Users\\PARK\\Anaconda3\\lib\\site-packages\\tensorboard\\compat\\tensorflow_stub\\dtypes.py:544: FutureWarning: Passing (type, 1) or '1type' as a synonym of type is deprecated; in a future version of numpy, it will be understood as (type, (1,)) / '(1,)type'.\n",
      "  _np_quint16 = np.dtype([(\"quint16\", np.uint16, 1)])\n",
      "C:\\Users\\PARK\\Anaconda3\\lib\\site-packages\\tensorboard\\compat\\tensorflow_stub\\dtypes.py:545: FutureWarning: Passing (type, 1) or '1type' as a synonym of type is deprecated; in a future version of numpy, it will be understood as (type, (1,)) / '(1,)type'.\n",
      "  _np_qint32 = np.dtype([(\"qint32\", np.int32, 1)])\n",
      "C:\\Users\\PARK\\Anaconda3\\lib\\site-packages\\tensorboard\\compat\\tensorflow_stub\\dtypes.py:550: FutureWarning: Passing (type, 1) or '1type' as a synonym of type is deprecated; in a future version of numpy, it will be understood as (type, (1,)) / '(1,)type'.\n",
      "  np_resource = np.dtype([(\"resource\", np.ubyte, 1)])\n"
     ]
    }
   ],
   "source": [
    "import pandas as pd\n",
    "from tensorflow.keras.utils import get_file\n",
    "import numpy as np\n",
    "\n",
    "from sklearn.preprocessing import StandardScaler\n",
    "from sklearn.model_selection import train_test_split\n",
    "import warnings\n",
    "warnings.filterwarnings('ignore')\n",
    "\n",
    "def getData(file_path):\n",
    "    try:\n",
    "        path = get_file(file_path, origin='http://kdd.ics.uci.edu/databases/kddcup99/kddcup.data_10_percent.gz')\n",
    "\n",
    "    except:\n",
    "        print('Error Downloading')\n",
    "        raise\n",
    "\n",
    "    df = pd.read_csv(path, header = None)\n",
    "    df.dropna(inplace = True, axis = 1)\n",
    "\n",
    "    \n",
    "    df.columns = [\n",
    "        'duration',\n",
    "        'protocol_type',\n",
    "        'service',\n",
    "        'flag',\n",
    "        'src_bytes',\n",
    "        'dst_bytes',\n",
    "        'land',\n",
    "        'wrong_fragment',\n",
    "        'urgent',\n",
    "        'hot',\n",
    "        'num_failed_logins',\n",
    "        'logged_in',\n",
    "        'num_compromised',\n",
    "        'root_shell',\n",
    "        'su_attempted',\n",
    "        'num_root',\n",
    "        'num_file_creations',\n",
    "        'num_shells',\n",
    "        'num_access_files',\n",
    "        'num_outbound_cmds',\n",
    "        'is_host_login',\n",
    "        'is_guest_login',\n",
    "        'count',\n",
    "        'srv_count',\n",
    "        'serror_rate',\n",
    "        'srv_serror_rate',\n",
    "        'rerror_rate',\n",
    "        'srv_rerror_rate',\n",
    "        'same_srv_rate',\n",
    "        'diff_srv_rate',\n",
    "        'srv_diff_host_rate',\n",
    "        'dst_host_count',\n",
    "        'dst_host_srv_count',\n",
    "        'dst_host_same_srv_rate',\n",
    "        'dst_host_diff_srv_rate',\n",
    "        'dst_host_same_src_port_rate',\n",
    "        'dst_host_srv_diff_host_rate',\n",
    "        'dst_host_serror_rate',\n",
    "        'dst_host_srv_serror_rate',\n",
    "        'dst_host_rerror_rate',\n",
    "        'dst_host_srv_rerror_rate',\n",
    "        'outcome'\n",
    "    ]\n",
    "    return df\n",
    "\n",
    "\n",
    "def Preprocessing(df, cat_col_idx):\n",
    "    df_columns = df.columns.tolist()\n",
    "        \n",
    "    numerical_columns = np.delete(df_columns, cat_col_idx)\n",
    "   \n",
    "    std = StandardScaler()\n",
    "    \n",
    "    for col in numerical_columns:\n",
    "        df[col] = std.fit_transform(df[[col]])\n",
    "    \n",
    "    def encode_text_dummy(df, name):\n",
    "        dummies = pd.get_dummies(df[name])\n",
    "        \n",
    "        for x in dummies.columns:\n",
    "            dummy_name = \"{}-{}\".format(name, x)\n",
    "            df[dummy_name] = dummies[x]\n",
    "        \n",
    "        df.drop(name, axis = 1, inplace = True)\n",
    "    \n",
    "    encode_text_dummy(df, 'protocol_type')\n",
    "    encode_text_dummy(df, 'service')\n",
    "    encode_text_dummy(df, 'flag')\n",
    "    encode_text_dummy(df, 'logged_in')\n",
    "    encode_text_dummy(df, 'is_host_login')\n",
    "    encode_text_dummy(df, 'is_guest_login')\n",
    "    \n",
    "    df.dropna(inplace = True, axis = 1)\n",
    "    \n",
    "    return df\n",
    "        \n",
    "def SplitData(df, testsize = None, seed = None):\n",
    "    if testsize == None:\n",
    "        raise AssertionError(\"Testsize must be defined.\")\n",
    "    normal = df['outcome'] == 'normal.'\n",
    "    attack = df['outcome'] != 'normal.'\n",
    "    \n",
    "    df.drop(columns = 'outcome', inplace = True)\n",
    "    \n",
    "    df_normal = df[normal]\n",
    "    df_attack = df[attack]\n",
    "    \n",
    "    x_normal = df_normal.values\n",
    "    x_attack = df_attack.values\n",
    "    \n",
    "    x_normal_train, x_normal_test = train_test_split(x_normal, test_size = testsize, random_state = seed)\n",
    "    \n",
    "    return x_normal_train, x_normal_test, x_attack"
   ]
  },
  {
   "cell_type": "code",
   "execution_count": 8,
   "metadata": {
    "ExecuteTime": {
     "end_time": "2020-01-09T08:19:24.710017Z",
     "start_time": "2020-01-09T08:19:23.619255Z"
    }
   },
   "outputs": [],
   "source": [
    "from sklearn.ensemble import IsolationForest"
   ]
  },
  {
   "cell_type": "code",
   "execution_count": 9,
   "metadata": {
    "ExecuteTime": {
     "end_time": "2020-01-09T08:21:42.386144Z",
     "start_time": "2020-01-09T08:21:27.123803Z"
    }
   },
   "outputs": [],
   "source": [
    "df = getData('kddcup.data_10_percent.gz')\n",
    "df = Preprocessing(df, [1,2,3,6,11,20,21,41])"
   ]
  },
  {
   "cell_type": "code",
   "execution_count": 24,
   "metadata": {
    "ExecuteTime": {
     "end_time": "2020-01-09T08:47:00.516743Z",
     "start_time": "2020-01-09T08:47:00.508746Z"
    }
   },
   "outputs": [],
   "source": [
    "from sklearn import metrics"
   ]
  },
  {
   "cell_type": "code",
   "execution_count": 71,
   "metadata": {
    "ExecuteTime": {
     "end_time": "2020-01-09T09:19:22.895410Z",
     "start_time": "2020-01-09T09:19:22.872868Z"
    }
   },
   "outputs": [],
   "source": [
    "class SimpleIsolationForest:\n",
    "    def __init__(self, df):\n",
    "        self.df = df\n",
    "        \n",
    "    def Modeling(self, train_data, seed):\n",
    "        self.train_data = train_data\n",
    "        self.seed = seed\n",
    "        \n",
    "        model = IsolationForest(random_state = self.seed).fit(self.train_data)\n",
    "        \n",
    "        self.model = model\n",
    "    \n",
    "    def Prediction(self, test_data, data_type):\n",
    "        self.test_data = test_data\n",
    "        \n",
    "        def ConvertLabel(x):\n",
    "            if x == -1:\n",
    "                return 1\n",
    "    \n",
    "            else:\n",
    "                return 0\n",
    "            \n",
    "        function = np.vectorize(ConvertLabel)\n",
    "            \n",
    "        if data_type == None:\n",
    "            raise AssertionError('Data Type must be defined.')\n",
    "            \n",
    "        elif data_type == 'Insample':\n",
    "            pred = self.model.predict(self.test_data)\n",
    "            pred = function(pred)\n",
    "            pred = list(pred)\n",
    "            \n",
    "            print('Insample Classification Result \\n')\n",
    "            print('Normal Value: {}'.format(pred.count(0)))\n",
    "            print('Anomlay Value: {}'.format(pred.count(1)))\n",
    "\n",
    "        elif data_type == 'OutOfSample':\n",
    "            pred = self.model.predict(self.test_data)\n",
    "            pred = function(pred)\n",
    "            pred = list(pred)\n",
    "            \n",
    "            print('Insample Classification Result \\n')\n",
    "            print('Normal Value: {}'.format(pred.count(0)))\n",
    "            print('Anomlay Value: {}'.format(pred.count(1)))\n",
    "            \n",
    "        elif data_type == 'Attack':\n",
    "            pred = self.model.predict(self.test_data)\n",
    "            pred = function(pred)\n",
    "            pred = list(pred)\n",
    "            \n",
    "            print('Insample Classification Result \\n')\n",
    "            print('Normal Value: {}'.format(pred.count(0)))\n",
    "            print('Anomlay Value: {}'.format(pred.count(1)))\n",
    "            \n",
    "            self.pred = pred\n",
    "            \n",
    "            return self.pred"
   ]
  },
  {
   "cell_type": "code",
   "execution_count": 73,
   "metadata": {
    "ExecuteTime": {
     "end_time": "2020-01-09T09:20:13.443213Z",
     "start_time": "2020-01-09T09:20:13.437585Z"
    }
   },
   "outputs": [],
   "source": [
    "tmp = SimpleIsolationForest(X_normal_train)"
   ]
  },
  {
   "cell_type": "code",
   "execution_count": 74,
   "metadata": {
    "ExecuteTime": {
     "end_time": "2020-01-09T09:20:59.602026Z",
     "start_time": "2020-01-09T09:20:14.664571Z"
    }
   },
   "outputs": [],
   "source": [
    "tmp.Modeling(X_normal_train, seed = 42)"
   ]
  },
  {
   "cell_type": "code",
   "execution_count": 75,
   "metadata": {
    "ExecuteTime": {
     "end_time": "2020-01-09T09:21:05.887751Z",
     "start_time": "2020-01-09T09:21:00.955640Z"
    }
   },
   "outputs": [
    {
     "name": "stdout",
     "output_type": "stream",
     "text": [
      "Insample Classification Result \n",
      "\n",
      "Normal Value: 21946\n",
      "Anomlay Value: 2374\n"
     ]
    }
   ],
   "source": [
    "tmp.Prediction(X_normal_test, data_type = 'OutOfSample')"
   ]
  },
  {
   "cell_type": "code",
   "execution_count": 76,
   "metadata": {
    "ExecuteTime": {
     "end_time": "2020-01-09T09:21:57.439148Z",
     "start_time": "2020-01-09T09:21:42.223083Z"
    }
   },
   "outputs": [
    {
     "name": "stdout",
     "output_type": "stream",
     "text": [
      "Insample Classification Result \n",
      "\n",
      "Normal Value: 65667\n",
      "Anomlay Value: 7291\n"
     ]
    }
   ],
   "source": [
    "tmp.Prediction(X_normal_train, data_type = 'Insample')"
   ]
  },
  {
   "cell_type": "code",
   "execution_count": null,
   "metadata": {
    "ExecuteTime": {
     "start_time": "2020-01-09T09:22:19.050Z"
    }
   },
   "outputs": [],
   "source": [
    "tmp.Prediction(X_attack, data_type = 'Attack')"
   ]
  }
 ],
 "metadata": {
  "kernelspec": {
   "display_name": "Python 3",
   "language": "python",
   "name": "python3"
  },
  "language_info": {
   "codemirror_mode": {
    "name": "ipython",
    "version": 3
   },
   "file_extension": ".py",
   "mimetype": "text/x-python",
   "name": "python",
   "nbconvert_exporter": "python",
   "pygments_lexer": "ipython3",
   "version": "3.7.3"
  },
  "toc": {
   "base_numbering": 1,
   "nav_menu": {},
   "number_sections": true,
   "sideBar": true,
   "skip_h1_title": false,
   "title_cell": "Table of Contents",
   "title_sidebar": "Contents",
   "toc_cell": false,
   "toc_position": {},
   "toc_section_display": true,
   "toc_window_display": false
  },
  "varInspector": {
   "cols": {
    "lenName": 16,
    "lenType": 16,
    "lenVar": 40
   },
   "kernels_config": {
    "python": {
     "delete_cmd_postfix": "",
     "delete_cmd_prefix": "del ",
     "library": "var_list.py",
     "varRefreshCmd": "print(var_dic_list())"
    },
    "r": {
     "delete_cmd_postfix": ") ",
     "delete_cmd_prefix": "rm(",
     "library": "var_list.r",
     "varRefreshCmd": "cat(var_dic_list()) "
    }
   },
   "types_to_exclude": [
    "module",
    "function",
    "builtin_function_or_method",
    "instance",
    "_Feature"
   ],
   "window_display": false
  }
 },
 "nbformat": 4,
 "nbformat_minor": 2
}
