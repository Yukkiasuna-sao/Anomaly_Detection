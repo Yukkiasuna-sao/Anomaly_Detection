{
 "cells": [
  {
   "cell_type": "code",
   "execution_count": 48,
   "metadata": {
    "ExecuteTime": {
     "end_time": "2020-06-06T15:54:31.671530Z",
     "start_time": "2020-06-06T15:54:31.665528Z"
    }
   },
   "outputs": [],
   "source": [
    "import numpy as np\n",
    "import pandas as pd\n",
    "\n",
    "import matplotlib.pyplot as plt\n",
    "import matplotlib.font_manager\n",
    "\n",
    "from sklearn import svm\n",
    "from sklearn.preprocessing import StandardScaler\n",
    "from sklearn.model_selection import train_test_split\n",
    "from sklearn.metrics import confusion_matrix\n",
    "from pyod.utils.data import generate_data, get_outliers_inliers\n",
    "\n",
    "import warnings\n",
    "warnings.filterwarnings('ignore')"
   ]
  },
  {
   "cell_type": "markdown",
   "metadata": {},
   "source": [
    "## 샘플 데이터 생성\n",
    "\n",
    "OCSVM은 Unsupervised Learning Method 중 하나이며, Novelty Detection에서 사용되는 방법 중 하나이다. \n",
    "\n",
    "따라서, 모든 데이터를 정상이라고 가정하고 모델 훈련을 수행해야 한다.\n",
    "\n",
    "샘플 데이터를 생성하는 과정은 다음과 같다.\n",
    "\n",
    "- PyoD 라이브러리를 사용하여 샘플 데이터 생성. 이 때, 실제 Outlier 비율은 전체 데이터의 5%로 지정한다.\n",
    "\n",
    "\n",
    "- 전체 데이터에서 훈련 데이터와 테스트 데이터를 분할한다."
   ]
  },
  {
   "cell_type": "code",
   "execution_count": 2,
   "metadata": {
    "ExecuteTime": {
     "end_time": "2020-06-06T12:35:33.907578Z",
     "start_time": "2020-06-06T12:35:33.898553Z"
    }
   },
   "outputs": [],
   "source": [
    "train, test = generate_data(random_state = 42, train_only = True, contamination = 0.05)\n",
    "X_train, X_test, y_train, y_test = train_test_split(train, test, test_size = 0.2, random_state = 42)"
   ]
  },
  {
   "cell_type": "markdown",
   "metadata": {},
   "source": [
    "## 모델 적합\n",
    "\n",
    "앞서 말했듯이, OCSVM은 라벨 데이터를 필요로하지 않는다. 따라서, 피쳐 데이터만을 이용해 모델을 적합시킨다."
   ]
  },
  {
   "cell_type": "code",
   "execution_count": 3,
   "metadata": {
    "ExecuteTime": {
     "end_time": "2020-06-06T12:35:33.928525Z",
     "start_time": "2020-06-06T12:35:33.911525Z"
    }
   },
   "outputs": [
    {
     "data": {
      "text/plain": [
       "OneClassSVM(cache_size=200, coef0=0.0, degree=3, gamma=0.1, kernel='rbf',\n",
       "            max_iter=-1, nu=0.1, shrinking=True, tol=0.001, verbose=False)"
      ]
     },
     "execution_count": 3,
     "metadata": {},
     "output_type": "execute_result"
    }
   ],
   "source": [
    "clf = svm.OneClassSVM(nu = 0.1, kernel = 'rbf', gamma = 0.1)\n",
    "clf.fit(X_train) # Unsupervised Learning Method"
   ]
  },
  {
   "cell_type": "markdown",
   "metadata": {},
   "source": [
    "## 적합 모델을 이용한 라벨 분류"
   ]
  },
  {
   "cell_type": "code",
   "execution_count": 220,
   "metadata": {
    "ExecuteTime": {
     "end_time": "2020-06-06T17:25:22.531199Z",
     "start_time": "2020-06-06T17:25:22.509197Z"
    }
   },
   "outputs": [],
   "source": [
    "class OCSVM:\n",
    "    def __init__(self, nu, kernel, gamma):\n",
    "        self.nu = nu\n",
    "        self.kernel = kernel\n",
    "        self.gamma = gamma\n",
    "        self.result_df = pd.DataFrame()\n",
    "        \n",
    "        self.clf = svm.OneClassSVM(nu = self.nu, kernel = self.kernel, gamma = self.gamma)\n",
    "        \n",
    "    def fit(self, X_train, ground_truth):\n",
    "        self.X_train = X_train\n",
    "        self.y_train = ground_truth\n",
    "        \n",
    "        self.clf.fit(self.X_train)\n",
    "        \n",
    "        return self.clf\n",
    "    \n",
    "    def predict(self, X_test, is_return = False):\n",
    "        self.X_test = X_test\n",
    "        \n",
    "        self.prediction = self.clf.predict(self.X_test)\n",
    "        \n",
    "        if is_return:\n",
    "            \n",
    "            return self.prediction\n",
    "    \n",
    "    def visualization(self):\n",
    "        self.result_df['X1'] = self.X_train[:, 0]\n",
    "        self.result_df['X2'] = self.X_train[:, 1]\n",
    "        self.result_df['Prediction'] = pd.Series(self.prediction).apply(lambda x: 0 if x == 1 else 1)\n",
    "        self.result_df['Actual'] = self.y_train\n",
    "        \n",
    "        xx, yy = np.meshgrid(np.linspace(self.result_df['X1'].min() - 1, self.result_df['X1'].max() + 1, 500),\n",
    "                            np.linspace(self.result_df['X2'].min() - 1, self.result_df['X2'].max() + 1, 500))\n",
    "        \n",
    "        z = clf.decision_function(np.c_[xx.ravel(), yy.ravel()])\n",
    "        z = z.reshape(xx.shape)\n",
    "        \n",
    "        plt.title(\"Novelty Detection\\nNu = {}, Kernel = {}, Gamma = {}\".format(self.nu, self.kernel, self.gamma))\n",
    "        plt.contourf(xx, yy, levels = np.linspace(z.min(), 0, 7), cmap = plt.cm.PuBu)\n",
    "        a = plt.contourf(xx, yy, z, level = [0], linewidths = 2, color = 'darkred')\n",
    "        plt.contourf(xx, yy, z, levels=[0, z.max()], colors='palevioletred')\n",
    "\n",
    "        s = 40\n",
    "        b1 = plt.scatter(self.X_train[:, 0], self.X_train[:, 1], c = 'white', s = s, edgecolors = 'k')\n",
    "        outlier = plt.scatter(self.result_df.loc[self.result_df['Prediction'] == 1]['X1'], self.result_df.loc[self.result_df['Prediction'] == 1]['X2'],\n",
    "                             c = 'red', edgecolor = 'k')\n",
    "        actual = plt.scatter(self.result_df.loc[self.result_df['Actual'] == 1]['X1'], self.result_df.loc[self.result_df['Actual'] == 1]['X2'],\n",
    "                            c = 'gold', edgecolor = 'k', alpha = 0.8)\n",
    "        \n",
    "        plt.axis('tight')\n",
    "        plt.xlim((self.result_df['X1'].min() - 1, self.result_df['X1'].max() + 1))\n",
    "        plt.ylim((self.result_df['X2'].min() - 1, self.result_df['X2'].max() + 1))\n",
    "        \n",
    "        plt.show()"
   ]
  },
  {
   "cell_type": "code",
   "execution_count": 275,
   "metadata": {
    "ExecuteTime": {
     "end_time": "2020-06-06T17:36:20.205620Z",
     "start_time": "2020-06-06T17:36:20.192622Z"
    }
   },
   "outputs": [
    {
     "data": {
      "text/plain": [
       "OneClassSVM(cache_size=200, coef0=0.0, degree=3, gamma=0.007, kernel='rbf',\n",
       "            max_iter=-1, nu=0.1, shrinking=True, tol=0.001, verbose=False)"
      ]
     },
     "execution_count": 275,
     "metadata": {},
     "output_type": "execute_result"
    }
   ],
   "source": [
    "nu = 0.1\n",
    "kernel = 'rbf'\n",
    "gamma = 0.007\n",
    "\n",
    "model = OCSVM(nu = nu, kernel = kernel, gamma = gamma)\n",
    "model.fit(X_train, y_train)"
   ]
  },
  {
   "cell_type": "code",
   "execution_count": 276,
   "metadata": {
    "ExecuteTime": {
     "end_time": "2020-06-06T17:36:20.353616Z",
     "start_time": "2020-06-06T17:36:20.346626Z"
    },
    "scrolled": true
   },
   "outputs": [],
   "source": [
    "model.predict(X_train)"
   ]
  },
  {
   "cell_type": "markdown",
   "metadata": {},
   "source": [
    "## 시각화"
   ]
  },
  {
   "cell_type": "code",
   "execution_count": 277,
   "metadata": {
    "ExecuteTime": {
     "end_time": "2020-06-06T17:36:21.349103Z",
     "start_time": "2020-06-06T17:36:20.576985Z"
    }
   },
   "outputs": [
    {
     "data": {
      "image/png": "[encoded data removed]",
      "text/plain": [
       "<Figure size 432x288 with 1 Axes>"
      ]
     },
     "metadata": {
      "needs_background": "light"
     },
     "output_type": "display_data"
    }
   ],
   "source": [
    "model.visualization()"
   ]
  },
  {
   "cell_type": "markdown",
   "metadata": {},
   "source": [
    "그래프를 통해 알 수 있다시피, OCSVM 하이퍼파라미터의 Nu는 SVM의 c와 비슷한 의미를 가진다. 다른 의미로 말하면, 오분류 비율에 대한 최대 상한 값이라고 볼 수도 있다. 예를 들어, Nu = 0.05로 설정하면 훈련 데이터의 최대 5%가 잘 못 분류된다고 말할 수 있다."
   ]
  }
 ],
 "metadata": {
  "kernelspec": {
   "display_name": "Python 3",
   "language": "python",
   "name": "python3"
  },
  "language_info": {
   "codemirror_mode": {
    "name": "ipython",
    "version": 3
   },
   "file_extension": ".py",
   "mimetype": "text/x-python",
   "name": "python",
   "nbconvert_exporter": "python",
   "pygments_lexer": "ipython3",
   "version": "3.7.7"
  },
  "toc": {
   "base_numbering": 1,
   "nav_menu": {},
   "number_sections": true,
   "sideBar": true,
   "skip_h1_title": false,
   "title_cell": "Table of Contents",
   "title_sidebar": "Contents",
   "toc_cell": false,
   "toc_position": {},
   "toc_section_display": true,
   "toc_window_display": false
  },
  "varInspector": {
   "cols": {
    "lenName": 16,
    "lenType": 16,
    "lenVar": 40
   },
   "kernels_config": {
    "python": {
     "delete_cmd_postfix": "",
     "delete_cmd_prefix": "del ",
     "library": "var_list.py",
     "varRefreshCmd": "print(var_dic_list())"
    },
    "r": {
     "delete_cmd_postfix": ") ",
     "delete_cmd_prefix": "rm(",
     "library": "var_list.r",
     "varRefreshCmd": "cat(var_dic_list()) "
    }
   },
   "types_to_exclude": [
    "module",
    "function",
    "builtin_function_or_method",
    "instance",
    "_Feature"
   ],
   "window_display": false
  }
 },
 "nbformat": 4,
 "nbformat_minor": 4
}
